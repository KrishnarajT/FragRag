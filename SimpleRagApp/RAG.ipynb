{
 "cells": [
  {
   "cell_type": "markdown",
   "id": "fde7d5f0",
   "metadata": {},
   "source": [
    "## Extraction"
   ]
  },
  {
   "cell_type": "code",
   "execution_count": 1,
   "id": "f4d530ec",
   "metadata": {},
   "outputs": [],
   "source": [
    "import fitz  # PyMuPDF\n",
    "\n",
    "\n",
    "def extract_text_from_pdf(file_path):\n",
    "    doc = fitz.open(file_path)\n",
    "    pages = []\n",
    "    for page_number in range(len(doc)):\n",
    "        page = doc.load_page(page_number)\n",
    "        text = page.get_text().strip()\n",
    "        pages.append({\"page_number\": page_number + 1, \"text\": text})\n",
    "    doc.close()\n",
    "    return pages\n",
    "\n",
    "\n",
    "# Extract and print text\n",
    "pdf_path = \"./metformin1.pdf\"\n",
    "pages = extract_text_from_pdf(pdf_path)"
   ]
  },
  {
   "cell_type": "markdown",
   "id": "8f192f87",
   "metadata": {},
   "source": [
    "## Chunking"
   ]
  },
  {
   "cell_type": "code",
   "execution_count": 2,
   "id": "6bf3ba52",
   "metadata": {},
   "outputs": [],
   "source": [
    "from langchain.text_splitter import RecursiveCharacterTextSplitter\n",
    "\n",
    "\n",
    "def chunk_pages(pages, chunk_size=1000, chunk_overlap=200):\n",
    "    splitter = RecursiveCharacterTextSplitter(\n",
    "        chunk_size=chunk_size, chunk_overlap=chunk_overlap\n",
    "    )\n",
    "    all_chunks = []\n",
    "    for page in pages:\n",
    "        chunks = splitter.split_text(page[\"text\"])\n",
    "        all_chunks.extend(chunks)\n",
    "    return all_chunks"
   ]
  },
  {
   "cell_type": "code",
   "execution_count": 3,
   "id": "b6904b24",
   "metadata": {},
   "outputs": [],
   "source": [
    "chunks = chunk_pages(pages)"
   ]
  },
  {
   "cell_type": "markdown",
   "id": "611185a4",
   "metadata": {},
   "source": [
    "## Chunks Embedding"
   ]
  },
  {
   "cell_type": "code",
   "execution_count": 4,
   "id": "8d480009",
   "metadata": {},
   "outputs": [
    {
     "name": "stderr",
     "output_type": "stream",
     "text": [
      "/config/workspace/FragRag/.venv/lib/python3.12/site-packages/tqdm/auto.py:21: TqdmWarning: IProgress not found. Please update jupyter and ipywidgets. See https://ipywidgets.readthedocs.io/en/stable/user_install.html\n",
      "  from .autonotebook import tqdm as notebook_tqdm\n"
     ]
    }
   ],
   "source": [
    "from sentence_transformers import SentenceTransformer\n",
    "embedding_model = SentenceTransformer(\"all-MiniLM-L6-v2\")"
   ]
  },
  {
   "cell_type": "code",
   "execution_count": 5,
   "id": "eb44b678",
   "metadata": {},
   "outputs": [],
   "source": [
    "import faiss\n",
    "import numpy as np\n",
    "import pickle"
   ]
  },
  {
   "cell_type": "code",
   "execution_count": 6,
   "id": "ce1bbc13",
   "metadata": {},
   "outputs": [
    {
     "name": "stdout",
     "output_type": "stream",
     "text": [
      "Stored 100 embeddings in the FAISS index.\n"
     ]
    }
   ],
   "source": [
    "\n",
    "# Step 3: Embed the chunks\n",
    "embeddings = embedding_model.encode(chunks, convert_to_numpy=True)\n",
    "\n",
    "# Step 4: Create a FAISS index\n",
    "d = embeddings.shape[1]  # dimension of embeddings\n",
    "index = faiss.IndexFlatL2(d)  # L2 distance index\n",
    "index.add(embeddings)  # add embeddings to index\n",
    "\n",
    "print(f\"Stored {index.ntotal} embeddings in the FAISS index.\")\n",
    "\n",
    "# Step 5: Save FAISS index + mapping to disk\n",
    "faiss.write_index(index, \"chunks.index\")\n",
    "\n",
    "# Also save chunks mapping (so you know which embedding corresponds to which text)\n",
    "with open(\"chunks.pkl\", \"wb\") as f:\n",
    "    pickle.dump(chunks, f)"
   ]
  },
  {
   "cell_type": "code",
   "execution_count": 7,
   "id": "6409572c",
   "metadata": {},
   "outputs": [
    {
     "name": "stdout",
     "output_type": "stream",
     "text": [
      "Score: 0.7914 | Chunk: metformin and may increase the risk for lactic acidosis. Consider the benefits and risks of \n",
      "concomitant use. Such interaction between metformin and oral cimetidine has been observed in \n",
      "normal healthy volunteers in both single- and multiple-dose, metformin-cimetidine drug \n",
      "interaction studies, with a 60% increase in peak metformin plasma and whole blood \n",
      "concentrations and a 40% increase in plasma and whole blood metformin AUC. There was no \n",
      "change in elimination half-life in the single-dose study. Metformin had no effect on cimetidine \n",
      "pharmacokinetics. \n",
      "In healthy volunteers, the pharmacokinetics of metformin and propranolol, and metformin and \n",
      "ibuprofen were not affected when coadministered in single-dose interaction studies. \n",
      "Metformin is negligibly bound to plasma proteins and is, therefore, less likely to interact with \n",
      "highly protein-bound drugs such as salicylates, sulfonamides, chloramphenicol, and probenecid,\n",
      "Score: 0.8272 | Chunk: remain intact during GI transit and will be eliminated in the feces as a soft, hydrated mass. \n",
      "CLINICAL PHARMACOLOGY \n",
      "Mechanism of Action \n",
      "Metformin is an antihyperglycemic agent which improves glucose tolerance in patients with type \n",
      "2 diabetes, lowering both basal and postprandial plasma glucose. Its pharmacologic mechanisms \n",
      "of action are different from other classes of oral antihyperglycemic agents. Metformin decreases \n",
      "hepatic glucose production, decreases intestinal absorption of glucose, and improves insulin \n",
      "sensitivity by increasing peripheral glucose uptake and utilization. Unlike sulfonylureas, \n",
      "metformin does not produce hypoglycemia in either patients with type 2 diabetes or normal \n",
      "subjects (except in special circumstances, see PRECAUTIONS) and does not cause \n",
      "hyperinsulinemia. With metformin therapy, insulin secretion remains unchanged while fasting \n",
      "insulin levels and day-long plasma insulin response may actually decrease. \n",
      "Pharmacokinetics\n",
      "Score: 0.8558 | Chunk: proteins, in contrast to sulfonylureas, which are more than 90% protein bound. Metformin \n",
      "partitions into erythrocytes, most likely as a function of time. At usual clinical doses and dosing \n",
      "schedules of GLUCOPHAGE, steady state plasma concentrations of metformin are reached \n",
      "within 24 to 48 hours and are generally <1 µg/mL. During controlled clinical trials of \n",
      "GLUCOPHAGE, maximum metformin plasma levels did not exceed 5 µg/mL, even at maximum \n",
      "doses. \n",
      "Metabolism and Elimination \n",
      "Intravenous single-dose studies in normal subjects demonstrate that metformin is excreted \n",
      "unchanged in the urine and does not undergo hepatic metabolism (no metabolites have been \n",
      "3\n",
      "Reference ID: 4079189 \n",
      "This label may not be the latest approved by FDA.  \n",
      "For current labeling information, please visit https://www.fda.gov/drugsatfda\n"
     ]
    }
   ],
   "source": [
    "# Load chunks mapping\n",
    "with open(\"chunks.pkl\", \"rb\") as f:\n",
    "    chunks = pickle.load(f)\n",
    "\n",
    "# Encode query\n",
    "query = \"What is metformin used to treat?\"\n",
    "query_vec = embedding_model.encode([query], convert_to_numpy=True)\n",
    "\n",
    "# Search\n",
    "k = 3  # top-k results\n",
    "D, I = index.search(query_vec, k)\n",
    "\n",
    "for idx, score in zip(I[0], D[0]):\n",
    "    print(f\"Score: {score:.4f} | Chunk: {chunks[idx]}\")"
   ]
  },
  {
   "cell_type": "code",
   "execution_count": 16,
   "id": "c936a013",
   "metadata": {},
   "outputs": [],
   "source": [
    "import requests\n",
    "\n",
    "\n",
    "def ask_ollama(prompt):\n",
    "    url = \"http://ollama:11434/api/generate\"\n",
    "    headers = {\"Content-Type\": \"application/json\"}\n",
    "    payload = {\"model\": \"tinyllama:latest\", \"prompt\": prompt, \"stream\": False}\n",
    "\n",
    "    response = requests.post(url, headers=headers, json=payload)\n",
    "    response.raise_for_status()\n",
    "\n",
    "    return response.json()[\"response\"]"
   ]
  },
  {
   "cell_type": "code",
   "execution_count": 18,
   "id": "96e80d35",
   "metadata": {},
   "outputs": [],
   "source": [
    "def build_prompt(query, retrieved_chunks):\n",
    "    context = \"\\n\\n\".join(retrieved_chunks)\n",
    "    prompt = f\"\"\"\n",
    "You are a helpful assistant. Use the following context to answer the question.\n",
    "If the answer is not in the context, say that you don't know.\n",
    "\n",
    "Context:\n",
    "{context}\n",
    "\n",
    "Question: {query}\n",
    "\n",
    "Answer:\n",
    "\"\"\"\n",
    "    return prompt"
   ]
  },
  {
   "cell_type": "code",
   "execution_count": 19,
   "id": "2f8034d3",
   "metadata": {},
   "outputs": [
    {
     "name": "stdout",
     "output_type": "stream",
     "text": [
      "In context, metformin is a medication used to treat type 2 diabetes mellitus (T2DM), which is characterized by high blood glucose levels. The pharmaceutical company Eli Lilly manufactures and markets the drug in both single-dose and multiple-dose forms. Metformin has been shown to decrease hepatic glucose production, increase insuliN sensitivity, and improve glucose tolerance in patients with T2DM. Its pharmacological mechanism of action is different from other classes of oral antidiabetic agents, which are more effective in improving glycemic control without affecting hepatotoxicity. Metformin's efficacy has been proven in various controlled clinical trials over multiple doses and has achieved steady state plasma concentrations with acceptable toxicity.\n"
     ]
    }
   ],
   "source": [
    "# Build RAG-style prompt\n",
    "retrieved_chunks = [chunks[idx] for idx in I[0]]\n",
    "prompt = build_prompt(query, retrieved_chunks)\n",
    "\n",
    "# Ask Ollama\n",
    "answer = ask_ollama(prompt)\n",
    "print(answer)"
   ]
  },
  {
   "cell_type": "code",
   "execution_count": null,
   "id": "3c89a32f",
   "metadata": {},
   "outputs": [],
   "source": []
  }
 ],
 "metadata": {
  "kernelspec": {
   "display_name": "Python (venv)",
   "language": "python",
   "name": "venv"
  },
  "language_info": {
   "codemirror_mode": {
    "name": "ipython",
    "version": 3
   },
   "file_extension": ".py",
   "mimetype": "text/x-python",
   "name": "python",
   "nbconvert_exporter": "python",
   "pygments_lexer": "ipython3",
   "version": "3.12.3"
  }
 },
 "nbformat": 4,
 "nbformat_minor": 5
}
