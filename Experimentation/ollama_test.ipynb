{
 "cells": [
  {
   "cell_type": "markdown",
   "id": "b1ae9f59",
   "metadata": {},
   "source": [
    "# this should give structured output"
   ]
  },
  {
   "cell_type": "code",
   "execution_count": 8,
   "id": "8dba1040",
   "metadata": {},
   "outputs": [],
   "source": [
    "ollama_api_endpoint = \"http://localhost:11434/api/chat\""
   ]
  },
  {
   "cell_type": "code",
   "execution_count": 9,
   "id": "59f04092",
   "metadata": {},
   "outputs": [
    {
     "name": "stdout",
     "output_type": "stream",
     "text": [
      "name='Canada' capital='Ottawa' languages=['English', 'French', 'Indigenous languages']\n",
      "Canada Ottawa ['English', 'French', 'Indigenous languages']\n"
     ]
    }
   ],
   "source": [
    "import requests\n",
    "from pydantic import BaseModel\n",
    "from typing import List, Type, TypeVar\n",
    "\n",
    "T = TypeVar(\"T\", bound=BaseModel)\n",
    "\n",
    "\n",
    "class CanadaInfo(BaseModel):\n",
    "    name: str\n",
    "    capital: str\n",
    "    languages: List[str]\n",
    "\n",
    "\n",
    "def ask_ollama(endpoint, model, prompt: str, model_class: Type[T]) -> T:\n",
    "    \"\"\"\n",
    "    Sends a prompt to Ollama API and parses the result into the given Pydantic model.\n",
    "\n",
    "    Args:\n",
    "        prompt (str): The user's input prompt.\n",
    "        model_class (Type[T]): The Pydantic model class to parse the response.\n",
    "\n",
    "    Returns:\n",
    "        An instance of the provided Pydantic model class.\n",
    "    \"\"\"\n",
    "    # Convert Pydantic model schema to JSON Schema\n",
    "    schema = model_class.model_json_schema()\n",
    "\n",
    "    payload = {\n",
    "        \"model\": model,\n",
    "        \"messages\": [{\"role\": \"user\", \"content\": prompt}],\n",
    "        \"stream\": False,\n",
    "        \"format\": schema,  # Ollama expects the format in JSON schema form\n",
    "    }\n",
    "\n",
    "    resp = requests.post(\n",
    "        endpoint,\n",
    "        headers={\"Content-Type\": \"application/json\"},\n",
    "        json=payload,\n",
    "    )\n",
    "    resp.raise_for_status()\n",
    "\n",
    "    # The API returns a dict with 'message' -> 'content' containing the JSON output\n",
    "    raw_json = resp.json()[\"message\"][\"content\"]\n",
    "\n",
    "    # Parse into the Pydantic model\n",
    "    return model_class.model_validate_json(raw_json)\n",
    "\n",
    "\n",
    "if __name__ == \"__main__\":\n",
    "    result = ask_ollama(\n",
    "        ollama_api_endpoint, \"llama3\", \"Tell me about Canada.\", CanadaInfo\n",
    "    )\n",
    "    print(result)\n",
    "    print(result.name, result.capital, result.languages)"
   ]
  },
  {
   "cell_type": "code",
   "execution_count": null,
   "id": "73a4a8a3",
   "metadata": {},
   "outputs": [],
   "source": []
  }
 ],
 "metadata": {
  "kernelspec": {
   "display_name": ".venv",
   "language": "python",
   "name": "python3"
  },
  "language_info": {
   "codemirror_mode": {
    "name": "ipython",
    "version": 3
   },
   "file_extension": ".py",
   "mimetype": "text/x-python",
   "name": "python",
   "nbconvert_exporter": "python",
   "pygments_lexer": "ipython3",
   "version": "3.12.4"
  }
 },
 "nbformat": 4,
 "nbformat_minor": 5
}
