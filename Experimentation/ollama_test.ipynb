{
 "cells": [
  {
   "cell_type": "code",
   "execution_count": 3,
   "id": "59f04092",
   "metadata": {},
   "outputs": [
    {
     "ename": "HTTPError",
     "evalue": "404 Client Error: Not Found for url: http://localhost:11434/api/chat",
     "output_type": "error",
     "traceback": [
      "\u001b[31m---------------------------------------------------------------------------\u001b[39m",
      "\u001b[31mHTTPError\u001b[39m                                 Traceback (most recent call last)",
      "\u001b[36mCell\u001b[39m\u001b[36m \u001b[39m\u001b[32mIn[3]\u001b[39m\u001b[32m, line 57\u001b[39m\n\u001b[32m     53\u001b[39m     languages: \u001b[38;5;28mlist\u001b[39m[\u001b[38;5;28mstr\u001b[39m]\n\u001b[32m     56\u001b[39m \u001b[38;5;28;01mif\u001b[39;00m \u001b[34m__name__\u001b[39m == \u001b[33m\"\u001b[39m\u001b[33m__main__\u001b[39m\u001b[33m\"\u001b[39m:\n\u001b[32m---> \u001b[39m\u001b[32m57\u001b[39m     country = \u001b[43mask_ollama_with_schema\u001b[49m\u001b[43m(\u001b[49m\u001b[43mCountryInfo\u001b[49m\u001b[43m,\u001b[49m\u001b[43m \u001b[49m\u001b[33;43m\"\u001b[39;49m\u001b[33;43mTell me about Canada.\u001b[39;49m\u001b[33;43m\"\u001b[39;49m\u001b[43m)\u001b[49m\n\u001b[32m     58\u001b[39m     \u001b[38;5;28mprint\u001b[39m(country)\n",
      "\u001b[36mCell\u001b[39m\u001b[36m \u001b[39m\u001b[32mIn[3]\u001b[39m\u001b[32m, line 33\u001b[39m, in \u001b[36mask_ollama_with_schema\u001b[39m\u001b[34m(model_cls, user_prompt, model_name)\u001b[39m\n\u001b[32m     25\u001b[39m payload = {\n\u001b[32m     26\u001b[39m     \u001b[33m\"\u001b[39m\u001b[33mmodel\u001b[39m\u001b[33m\"\u001b[39m: model_name,\n\u001b[32m     27\u001b[39m     \u001b[33m\"\u001b[39m\u001b[33mmessages\u001b[39m\u001b[33m\"\u001b[39m: [{\u001b[33m\"\u001b[39m\u001b[33mrole\u001b[39m\u001b[33m\"\u001b[39m: \u001b[33m\"\u001b[39m\u001b[33muser\u001b[39m\u001b[33m\"\u001b[39m, \u001b[33m\"\u001b[39m\u001b[33mcontent\u001b[39m\u001b[33m\"\u001b[39m: user_prompt}],\n\u001b[32m     28\u001b[39m     \u001b[33m\"\u001b[39m\u001b[33mstream\u001b[39m\u001b[33m\"\u001b[39m: \u001b[38;5;28;01mFalse\u001b[39;00m,\n\u001b[32m     29\u001b[39m     \u001b[33m\"\u001b[39m\u001b[33mformat\u001b[39m\u001b[33m\"\u001b[39m: schema,  \u001b[38;5;66;03m# Pass the schema directly\u001b[39;00m\n\u001b[32m     30\u001b[39m }\n\u001b[32m     32\u001b[39m resp = requests.post(url, headers=headers, json=payload)\n\u001b[32m---> \u001b[39m\u001b[32m33\u001b[39m \u001b[43mresp\u001b[49m\u001b[43m.\u001b[49m\u001b[43mraise_for_status\u001b[49m\u001b[43m(\u001b[49m\u001b[43m)\u001b[49m\n\u001b[32m     34\u001b[39m data = resp.json()\n\u001b[32m     36\u001b[39m \u001b[38;5;66;03m# Ollama usually returns { \"message\": { \"content\": \"{...}\" }, ... }\u001b[39;00m\n",
      "\u001b[36mFile \u001b[39m\u001b[32mp:\\programs\\DSML\\fragrag\\.venv\\Lib\\site-packages\\requests\\models.py:1026\u001b[39m, in \u001b[36mResponse.raise_for_status\u001b[39m\u001b[34m(self)\u001b[39m\n\u001b[32m   1021\u001b[39m     http_error_msg = (\n\u001b[32m   1022\u001b[39m         \u001b[33mf\u001b[39m\u001b[33m\"\u001b[39m\u001b[38;5;132;01m{\u001b[39;00m\u001b[38;5;28mself\u001b[39m.status_code\u001b[38;5;132;01m}\u001b[39;00m\u001b[33m Server Error: \u001b[39m\u001b[38;5;132;01m{\u001b[39;00mreason\u001b[38;5;132;01m}\u001b[39;00m\u001b[33m for url: \u001b[39m\u001b[38;5;132;01m{\u001b[39;00m\u001b[38;5;28mself\u001b[39m.url\u001b[38;5;132;01m}\u001b[39;00m\u001b[33m\"\u001b[39m\n\u001b[32m   1023\u001b[39m     )\n\u001b[32m   1025\u001b[39m \u001b[38;5;28;01mif\u001b[39;00m http_error_msg:\n\u001b[32m-> \u001b[39m\u001b[32m1026\u001b[39m     \u001b[38;5;28;01mraise\u001b[39;00m HTTPError(http_error_msg, response=\u001b[38;5;28mself\u001b[39m)\n",
      "\u001b[31mHTTPError\u001b[39m: 404 Client Error: Not Found for url: http://localhost:11434/api/chat"
     ]
    }
   ],
   "source": [
    "import requests\n",
    "from pydantic import BaseModel\n",
    "from typing import Type, TypeVar\n",
    "\n",
    "T = TypeVar(\"T\", bound=BaseModel)\n",
    "\n",
    "\n",
    "def ask_ollama_with_schema(\n",
    "    model_cls: Type[T], user_prompt: str, model_name: str = \"llama3.1\"\n",
    ") -> T:\n",
    "    \"\"\"\n",
    "    Sends a request to Ollama's chat API with a JSON schema derived from a Pydantic model.\n",
    "\n",
    "    :param model_cls: Pydantic model class defining the expected output format.\n",
    "    :param user_prompt: The prompt to send to the model.\n",
    "    :param model_name: Ollama model to use.\n",
    "    :return: An instance of model_cls containing the model's structured output.\n",
    "    \"\"\"\n",
    "    url = \"http://localhost:11434/api/chat\"\n",
    "    headers = {\"Content-Type\": \"application/json\"}\n",
    "\n",
    "    # Get JSON Schema from Pydantic\n",
    "    schema = model_cls.model_json_schema()\n",
    "\n",
    "    payload = {\n",
    "        \"model\": model_name,\n",
    "        \"messages\": [{\"role\": \"user\", \"content\": user_prompt}],\n",
    "        \"stream\": False,\n",
    "        \"format\": schema,  # Pass the schema directly\n",
    "    }\n",
    "\n",
    "    resp = requests.post(url, headers=headers, json=payload)\n",
    "    resp.raise_for_status()\n",
    "    data = resp.json()\n",
    "\n",
    "    # Ollama usually returns { \"message\": { \"content\": \"{...}\" }, ... }\n",
    "    try:\n",
    "        content = data[\"message\"][\"content\"]\n",
    "        if isinstance(content, str):\n",
    "            import json\n",
    "\n",
    "            content = json.loads(content)\n",
    "    except (KeyError, ValueError) as e:\n",
    "        raise RuntimeError(f\"Unexpected response format: {data}\") from e\n",
    "\n",
    "    return model_cls(**content)\n",
    "\n",
    "\n",
    "# Example usage:\n",
    "class CountryInfo(BaseModel):\n",
    "    name: str\n",
    "    capital: str\n",
    "    languages: list[str]\n",
    "\n",
    "\n",
    "if __name__ == \"__main__\":\n",
    "    country = ask_ollama_with_schema(CountryInfo, \"Tell me about Canada.\")\n",
    "    print(country)"
   ]
  },
  {
   "cell_type": "code",
   "execution_count": null,
   "id": "73a4a8a3",
   "metadata": {},
   "outputs": [],
   "source": []
  }
 ],
 "metadata": {
  "kernelspec": {
   "display_name": ".venv",
   "language": "python",
   "name": "python3"
  },
  "language_info": {
   "codemirror_mode": {
    "name": "ipython",
    "version": 3
   },
   "file_extension": ".py",
   "mimetype": "text/x-python",
   "name": "python",
   "nbconvert_exporter": "python",
   "pygments_lexer": "ipython3",
   "version": "3.12.4"
  }
 },
 "nbformat": 4,
 "nbformat_minor": 5
}
