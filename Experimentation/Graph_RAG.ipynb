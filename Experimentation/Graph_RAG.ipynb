{
 "cells": [
  {
   "cell_type": "markdown",
   "id": "fb14bb3b-1c64-4cab-a733-49430a51d662",
   "metadata": {},
   "source": [
    "### Extract Text"
   ]
  },
  {
   "cell_type": "code",
   "execution_count": 1,
   "id": "16ec379d-c337-4469-bd24-e0e4f028e504",
   "metadata": {},
   "outputs": [],
   "source": [
    "import fitz  # PyMuPDF\n",
    "\n",
    "def extract_text_from_pdf(file_path):\n",
    "    doc = fitz.open(file_path)\n",
    "    pages = []\n",
    "    for page_number in range(len(doc)):\n",
    "        page = doc.load_page(page_number)\n",
    "        text = page.get_text().strip()\n",
    "        pages.append({\n",
    "            \"page_number\": page_number + 1,\n",
    "            \"text\": text\n",
    "        })\n",
    "    doc.close()\n",
    "    return pages\n",
    "\n",
    "# Extract and print text\n",
    "pdf_path = \"./metformin1.pdf\"\n",
    "pages = extract_text_from_pdf(pdf_path)"
   ]
  },
  {
   "cell_type": "markdown",
   "id": "0f378cc9-6dda-4bb8-b38d-fa42ffb8f5e9",
   "metadata": {},
   "source": [
    "### Extract Entities"
   ]
  },
  {
   "cell_type": "code",
   "execution_count": 2,
   "id": "0f4ddd01-bfeb-4a65-b1a7-1b5f1850eb8b",
   "metadata": {},
   "outputs": [],
   "source": [
    "import spacy\n",
    "nlp = spacy.load(\"en_core_web_sm\")\n"
   ]
  },
  {
   "cell_type": "code",
   "execution_count": 3,
   "id": "05175d8e-8f62-47ea-8d92-153ec4cd3cbb",
   "metadata": {},
   "outputs": [],
   "source": [
    "# Function to extract entities from text\n",
    "def extract_entities(text):\n",
    "    doc = nlp(text)\n",
    "    entities = []\n",
    "    for ent in doc.ents:\n",
    "        entities.append({\n",
    "            \"text\": ent.text,\n",
    "            \"label\": ent.label_\n",
    "        })\n",
    "    return entities"
   ]
  },
  {
   "cell_type": "code",
   "execution_count": 91,
   "id": "aa3a2de0-0cb3-4876-bd57-30c82840714d",
   "metadata": {},
   "outputs": [
    {
     "data": {
      "text/plain": [
       "35"
      ]
     },
     "execution_count": 91,
     "metadata": {},
     "output_type": "execute_result"
    }
   ],
   "source": [
    "all_entities = []\n",
    "\n",
    "for page in pages:\n",
    "    entities = extract_entities(page[\"text\"])\n",
    "    all_entities.append({\n",
    "        \"page_number\": page[\"page_number\"],\n",
    "        \"entities\": entities\n",
    "    })\n",
    "len(all_entities)"
   ]
  },
  {
   "cell_type": "markdown",
   "id": "1aa9e481-dc25-43cf-9257-790a4c8c6d32",
   "metadata": {},
   "source": [
    "### Building and storing your FAISS index"
   ]
  },
  {
   "cell_type": "code",
   "execution_count": 5,
   "id": "d4518110-4c84-4d84-946f-04d88b4abe15",
   "metadata": {},
   "outputs": [],
   "source": [
    "# from sentence_transformers import SentenceTransformer\n",
    "# import faiss\n",
    "# import numpy as np\n",
    "# import json\n",
    "# import pickle\n",
    "\n",
    "# # 1. Load the embedding model\n",
    "# model = SentenceTransformer('all-MiniLM-L6-v2')\n",
    "\n",
    "# # 2. Flatten entities and prepare metadata\n",
    "# unique_entities = {}\n",
    "# metadata = []\n",
    "# embedding_inputs = []\n",
    "\n",
    "# for item in all_entities:\n",
    "#     page = item[\"page_number\"]\n",
    "#     for ent in item[\"entities\"]:\n",
    "#         text = ent[\"text\"].strip()\n",
    "#         key = text.lower()\n",
    "\n",
    "#         if key not in unique_entities:\n",
    "#             unique_entities[key] = {\n",
    "#                 \"text\": text,\n",
    "#                 \"label\": ent[\"label\"],\n",
    "#                 \"pages\": [page]\n",
    "#             }\n",
    "#             embedding_inputs.append(text)\n",
    "#         else:\n",
    "#             unique_entities[key][\"pages\"].append(page)\n",
    "\n",
    "# # 3. Compute embeddings\n",
    "# embeddings = model.encode(embedding_inputs, convert_to_numpy=True)\n",
    "\n",
    "# # 4. Create FAISS index\n",
    "# dim = embeddings.shape[1]\n",
    "# index = faiss.IndexFlatL2(dim)\n",
    "# index.add(embeddings)\n",
    "\n",
    "# # 5. Save metadata alongside index\n",
    "# metadata = list(unique_entities.values())\n",
    "\n",
    "# # Save FAISS index\n",
    "# faiss.write_index(index, \"entity_index.faiss\")\n",
    "\n",
    "# # Save metadata to disk\n",
    "# with open(\"entity_metadata.pkl\", \"wb\") as f:\n",
    "#     pickle.dump(metadata, f)\n",
    "\n",
    "# print(f\"Stored {len(metadata)} unique entities into FAISS.\")"
   ]
  },
  {
   "cell_type": "markdown",
   "id": "79623823",
   "metadata": {},
   "source": [
    "### Ollama Function"
   ]
  },
  {
   "cell_type": "code",
   "execution_count": 37,
   "id": "15b9ead4",
   "metadata": {},
   "outputs": [],
   "source": [
    "import requests\n",
    "\n",
    "def ask_ollama(prompt):\n",
    "    url = \"http://home-pc.tail4924f5.ts.net:11434/api/generate\"\n",
    "    headers = {\n",
    "        \"Content-Type\": \"application/json\"\n",
    "    }\n",
    "    payload = {\n",
    "        \"model\": \"llama3\",\n",
    "        \"prompt\": prompt,\n",
    "        \"stream\": False\n",
    "    }\n",
    "\n",
    "    response = requests.post(url, headers=headers, json=payload)\n",
    "    response.raise_for_status()\n",
    "    \n",
    "    return response.json()[\"response\"]"
   ]
  },
  {
   "cell_type": "code",
   "execution_count": 38,
   "id": "c317b4cd",
   "metadata": {},
   "outputs": [
    {
     "data": {
      "text/plain": [
       "\"Hello! It's nice to meet you. Is there something I can help you with, or would you like to chat?\""
      ]
     },
     "execution_count": 38,
     "metadata": {},
     "output_type": "execute_result"
    }
   ],
   "source": [
    "ask_ollama(\"Hello\")"
   ]
  },
  {
   "cell_type": "markdown",
   "id": "0fb71df1-8ce8-43a9-a261-e59178c7d8b7",
   "metadata": {},
   "source": [
    "## Building cypher queries for neo4j"
   ]
  },
  {
   "cell_type": "code",
   "execution_count": null,
   "id": "6e27cfb9",
   "metadata": {},
   "outputs": [],
   "source": [
    "# --- 2. Neo4j Aura connection --\n",
    "from neo4j import GraphDatabase\n",
    "\n",
    "NEO4J_URI = \"\"\n",
    "NEO4J_USER = \"\"\n",
    "NEO4J_PASSWORD = \"\"\n",
    "driver = GraphDatabase.driver(NEO4J_URI, auth=(NEO4J_USER, NEO4J_PASSWORD))\n"
   ]
  },
  {
   "cell_type": "code",
   "execution_count": 40,
   "id": "38188ae4",
   "metadata": {},
   "outputs": [],
   "source": [
    "def test_connection():\n",
    "    try:\n",
    "        with driver.session() as session:\n",
    "            result = session.run(\"RETURN 'Neo4j connection successful!' AS message\")\n",
    "            print(result.single()[\"message\"])\n",
    "    except Exception as e:\n",
    "        print(\"❌ Failed to connect to Neo4j:\", e)"
   ]
  },
  {
   "cell_type": "code",
   "execution_count": 41,
   "id": "d316062b",
   "metadata": {},
   "outputs": [],
   "source": [
    "def run_cypher_query(query):\n",
    "    with driver.session() as session:\n",
    "        session.run(query)"
   ]
  },
  {
   "cell_type": "code",
   "execution_count": 90,
   "id": "354b3736",
   "metadata": {},
   "outputs": [
    {
     "name": "stdout",
     "output_type": "stream",
     "text": [
      "Raw from Ollama: CREATE (n2:Entity {text: \"2\"})-[:RELATES_TO]->(Metformin:Entity {text: \"Metformin\"});\n",
      "Sanitized Cypher: CREATE (n2:Entity {text: \"2\"})-[:RELATES_TO]->(Metformin:Entity {text: \"Metformin\"});\n",
      "Executing Cypher: CREATE (n2:Entity {text: \"2\"})-[:RELATES_TO]->(Metformin:Entity {text: \"Metformin\"});\n"
     ]
    },
    {
     "name": "stderr",
     "output_type": "stream",
     "text": [
      "/var/folders/35/143126m50gv7zq_ldk50bbhr0000gn/T/ipykernel_23769/379150417.py:2: DeprecationWarning: Using a driver after it has been closed is deprecated. Future versions of the driver will raise an error.\n",
      "  with driver.session() as session:\n"
     ]
    },
    {
     "name": "stdout",
     "output_type": "stream",
     "text": [
      "Raw from Ollama: CREATE (n750_Entity:Entity {text: \"750\"})-[:RELATES_TO]->(System_Components:Entity {text: \"System Components\"});\n",
      "Sanitized Cypher: CREATE (n750_Entity:Entity {text: \"750\"})-[:RELATES_TO]->(System_Components:Entity {text: \"System Components\"});\n",
      "Executing Cypher: CREATE (n750_Entity:Entity {text: \"750\"})-[:RELATES_TO]->(System_Components:Entity {text: \"System Components\"});\n",
      "Raw from Ollama: CREATE (nCmax_Entity:Entity {text: \"Cmax\"})-[:RELATES_TO]->(n7hours_Entity:Entity {text: \"7 hours\"});\n",
      "Sanitized Cypher: CREATE (nCmax_Entity:Entity {text: \"Cmax\"})-[:RELATES_TO]->(n7hours_Entity:Entity {text: \"7 hours\"});\n",
      "Executing Cypher: CREATE (nCmax_Entity:Entity {text: \"Cmax\"})-[:RELATES_TO]->(n7hours_Entity:Entity {text: \"7 hours\"});\n",
      "Raw from Ollama: CREATE (nTable_1:Entity {text: \"Table 1\"})-[:RELATES_TO]->(n3_5:Entity {text: \"3.5\"});\n",
      "Sanitized Cypher: CREATE (nTable_1:Entity {text: \"Table 1\"})-[:RELATES_TO]->(n3_5:Entity {text: \"3.5\"});\n",
      "Executing Cypher: CREATE (nTable_1:Entity {text: \"Table 1\"})-[:RELATES_TO]->(n3_5:Entity {text: \"3.5\"});\n",
      "Raw from Ollama: CREATE (n1_Entity:Entity {text: \"1\"})-[:IS_PART_OF]->(n500_Entity:Entity {text: \"500\"});\n",
      "Sanitized Cypher: CREATE (n1_Entity:Entity {text: \"1\"})-[:IS_PART_OF]->(n500_Entity:Entity {text: \"500\"});\n",
      "Executing Cypher: CREATE (n1_Entity:Entity {text: \"1\"})-[:IS_PART_OF]->(n500_Entity:Entity {text: \"500\"});\n",
      "Raw from Ollama: CREATE (n750_Entity:Entity {text: \"750 Entity\"})-[:RELATES_TO]->(n7500_Entity:Entity {text: \"7500\"});\n",
      "Sanitized Cypher: CREATE (n750_Entity:Entity {text: \"750 Entity\"})-[:RELATES_TO]->(n7500_Entity:Entity {text: \"7500\"});\n",
      "Executing Cypher: CREATE (n750_Entity:Entity {text: \"750 Entity\"})-[:RELATES_TO]->(n7500_Entity:Entity {text: \"7500\"});\n",
      "Raw from Ollama: CREATE (nmonthly_Entity:Entity {text: \"monthly\"})-[:RELATES_TO]->(n2500:Entity {text: \"2500\"});\n",
      "Sanitized Cypher: CREATE (nmonthly_Entity:Entity {text: \"monthly\"})-[:RELATES_TO]->(n2500:Entity {text: \"2500\"});\n",
      "Executing Cypher: CREATE (nmonthly_Entity:Entity {text: \"monthly\"})-[:RELATES_TO]->(n2500:Entity {text: \"2500\"});\n",
      "Raw from Ollama: CREATE (serum_lipid_variables:nEntity {text: \"Serum Lipid Variables\"})-[:RELATES_TO]->(twenty_nine_week:nEntity {text: \"29-week\"});\n",
      "Sanitized Cypher: CREATE (serum_lipid_variables:nEntity {text: \"Serum Lipid Variables\"})-[:RELATES_TO]->(twenty_nine_week:nEntity {text: \"29-week\"});\n",
      "Executing Cypher: CREATE (serum_lipid_variables:nEntity {text: \"Serum Lipid Variables\"})-[:RELATES_TO]->(twenty_nine_week:nEntity {text: \"29-week\"});\n",
      "Raw from Ollama: CREATE (n5:Entity {text: \"5\"})-[:RELATES_TO]->(placebo_summary_insulin:Entity {text: \"Placebo/Insulin Summary\"});\n",
      "Sanitized Cypher: CREATE (n5:Entity {text: \"5\"})-[:RELATES_TO]->(placebo_summary_insulin:Entity {text: \"Placebo/Insulin Summary\"});\n",
      "Executing Cypher: CREATE (n5:Entity {text: \"5\"})-[:RELATES_TO]->(placebo_summary_insulin:Entity {text: \"Placebo/Insulin Summary\"});\n",
      "Raw from Ollama: CREATE (n16week_Entity:Entity {text: \"16 week\"}),(nEvening_Entity:Entity {text: \"evening\"})-[:RELATES_TO]->(n16week_Entity)-[:RELATES_TO]->(nEvening_Entity);\n",
      "Sanitized Cypher: CREATE (n16week_Entity:Entity {text: \"16 week\"}),(nEvening_Entity:Entity {text: \"evening\"})-[:RELATES_TO]->(n16week_Entity)-[:RELATES_TO]->(nEvening_Entity);\n",
      "Executing Cypher: CREATE (n16week_Entity:Entity {text: \"16 week\"}),(nEvening_Entity:Entity {text: \"evening\"})-[:RELATES_TO]->(n16week_Entity)-[:RELATES_TO]->(nEvening_Entity);\n",
      "Raw from Ollama: CREATE (plasma_Glucose:nEntity {text: \"Plasma Glucose\"}),(body_Weight:nEntity {text: \"Body Weight\"})-[:RELATES_TO]->(plasma_Glucose)-[r1:RELATES_TO]->(body_Weight);\n",
      "Sanitized Cypher: CREATE (plasma_Glucose:nEntity {text: \"Plasma Glucose\"}),(body_Weight:nEntity {text: \"Body Weight\"})-[:RELATES_TO]->(plasma_Glucose)-[r1:RELATES_TO]->(body_Weight);\n",
      "Executing Cypher: CREATE (plasma_Glucose:nEntity {text: \"Plasma Glucose\"}),(body_Weight:nEntity {text: \"Body Weight\"})-[:RELATES_TO]->(plasma_Glucose)-[r1:RELATES_TO]->(body_Weight);\n",
      "Raw from Ollama: CREATE (nFinalVisit:Entity {text: \"Final Visit\"})-[:TAKES_PLACE_AT]->(n8:Entity {text: \"8\"});\n",
      "Sanitized Cypher: CREATE (nFinalVisit:Entity {text: \"Final Visit\"})-[:TAKES_PLACE_AT]->(n8:Entity {text: \"8\"});\n",
      "Executing Cypher: CREATE (nFinalVisit:Entity {text: \"Final Visit\"})-[:TAKES_PLACE_AT]->(n8:Entity {text: \"8\"});\n",
      "Raw from Ollama: CREATE (n9:Entity {text: \"9\"}), (Final_Visit:Entity {text: \"Final Visit\"})-[:VISITS]->(n9)\n",
      "Sanitized Cypher: CREATE (n9:Entity {text: \"9\"}), (Final_Visit:Entity {text: \"Final Visit\"})-[:VISITS]->(n9)\n",
      "Executing Cypher: CREATE (n9:Entity {text: \"9\"}), (Final_Visit:Entity {text: \"Final Visit\"})-[:VISITS]->(n9)\n",
      "Raw from Ollama: CREATE (nFever:Entity {text: \"fever\"})-[:HAS_SYMPTOM]->(nPain:Entity {text: \"pain\"});\n",
      "Sanitized Cypher: CREATE (nFever:Entity {text: \"fever\"})-[:HAS_SYMPTOM]->(nPain:Entity {text: \"pain\"});\n",
      "Executing Cypher: CREATE (nFever:Entity {text: \"fever\"})-[:HAS_SYMPTOM]->(nPain:Entity {text: \"pain\"});\n",
      "Raw from Ollama: CREATE (n750_Therapy:Entity {text: \"Therapy\"})-[:RECOMMENDS]->(n750_Medication:Entity {text: \"Medication\"});\n",
      "Sanitized Cypher: CREATE (n750_Therapy:Entity {text: \"Therapy\"})-[:RECOMMENDS]->(n750_Medication:Entity {text: \"Medication\"});\n",
      "Executing Cypher: CREATE (n750_Therapy:Entity {text: \"Therapy\"})-[:RECOMMENDS]->(n750_Medication:Entity {text: \"Medication\"});\n",
      "Raw from Ollama: CREATE (nContraindications_Entity:Entity {text: \"CONTRAINDICATIONS\"})-[:RELATES_TO]->(nBetween_30_And_45:Entity {text: \"between 30-45\"});\n",
      "Sanitized Cypher: CREATE (nContraindications_Entity:Entity {text: \"CONTRAINDICATIONS\"})-[:RELATES_TO]->(nBetween_30_And_45:Entity {text: \"between 30-45\"});\n",
      "Executing Cypher: CREATE (nContraindications_Entity:Entity {text: \"CONTRAINDICATIONS\"})-[:RELATES_TO]->(nBetween_30_And_45:Entity {text: \"between 30-45\"});\n",
      "Raw from Ollama: CREATE (nVitaminB12_Entity:Entity {text: \"Vitamin B12\"})-[:RELATES_TO]->(n29weeks_Entity:Entity {text: \"29 weeks\"});\n",
      "Sanitized Cypher: CREATE (nVitaminB12_Entity:Entity {text: \"Vitamin B12\"})-[:RELATES_TO]->(n29weeks_Entity:Entity {text: \"29 weeks\"});\n",
      "Executing Cypher: CREATE (nVitaminB12_Entity:Entity {text: \"Vitamin B12\"})-[:RELATES_TO]->(n29weeks_Entity:Entity {text: \"29 weeks\"});\n",
      "Raw from Ollama: CREATE (nElderly_Entity:Entity {text: \"Elderly\"}),(nWARNINGS_Entity:Entity {text: \"WARNINGS\"})-[:RELS_TO]->(nElderly_Entity);\n",
      "Sanitized Cypher: CREATE (nElderly_Entity:Entity {text: \"Elderly\"}),(nWARNINGS_Entity:Entity {text: \"WARNINGS\"})-[:RELS_TO]->(nElderly_Entity);\n",
      "Executing Cypher: CREATE (nElderly_Entity:Entity {text: \"Elderly\"}),(nWARNINGS_Entity:Entity {text: \"WARNINGS\"})-[:RELS_TO]->(nElderly_Entity);\n",
      "Raw from Ollama: CREATE (nDOSAGE:Entity {text: \"DOSAGE\"}),(nADMINISTRATION:Entity {text: \"ADMINISTRATION\"})-[:ADMINISTERS]->(nDOSAGE);\n",
      "Sanitized Cypher: CREATE (nDOSAGE:Entity {text: \"DOSAGE\"}),(nADMINISTRATION:Entity {text: \"ADMINISTRATION\"})-[:ADMINISTERS]->(nDOSAGE);\n",
      "Executing Cypher: CREATE (nDOSAGE:Entity {text: \"DOSAGE\"}),(nADMINISTRATION:Entity {text: \"ADMINISTRATION\"})-[:ADMINISTERS]->(nDOSAGE);\n",
      "Raw from Ollama: CREATE (auc:nAuc_Entity {text: \"AUC\", text: \"and\"})-[:RELATES_TO]->(twenty_percent:n20_Percent_Entity {text: \"20% and\"});\n",
      "Sanitized Cypher: CREATE (auc:nAuc_Entity {text: \"AUC\", text: \"and\"})-[:RELATES_TO]->(twenty_percent:n20_Percent_Entity {text: \"20% and\"});\n",
      "Executing Cypher: CREATE (auc:nAuc_Entity {text: \"AUC\", text: \"and\"})-[:RELATES_TO]->(twenty_percent:n20_Percent_Entity {text: \"20% and\"});\n",
      "Raw from Ollama: CREATE (nCarcinogenesis_Entity:Entity {text: \"Carcinogenesis\"}),(nMutagenesis_Entity:Entity {text: \"Mutagenesis\"}),(nImpairment_of_Fertility_Long_Entity:Entity {text: \"Impairment of Fertility Long\"})-[:IMPACTS]->(nMutagenesis_Entity)-[:LEADS_TO]->(nCarcinogenesis_Entity);\n",
      "Sanitized Cypher: CREATE (nCarcinogenesis_Entity:Entity {text: \"Carcinogenesis\"}),(nMutagenesis_Entity:Entity {text: \"Mutagenesis\"}),(nImpairment_of_Fertility_Long_Entity:Entity {text: \"Impairment of Fertility Long\"})-[:IMPACTS]->(nMutagenesis_Entity)-[:LEADS_TO]->(nCarcinogenesis_Entity);\n",
      "Executing Cypher: CREATE (nCarcinogenesis_Entity:Entity {text: \"Carcinogenesis\"}),(nMutagenesis_Entity:Entity {text: \"Mutagenesis\"}),(nImpairment_of_Fertility_Long_Entity:Entity {text: \"Impairment of Fertility Long\"})-[:IMPACTS]->(nMutagenesis_Entity)-[:LEADS_TO]->(nCarcinogenesis_Entity);\n",
      "Raw from Ollama: CREATE (nDetermination_of_fetal:Entity {text: \"Determination of fetal\"})-[:RELATES_TO]->(n2:Entity {text: \"2\"});\n",
      "Sanitized Cypher: CREATE (nDetermination_of_fetal:Entity {text: \"Determination of fetal\"})-[:RELATES_TO]->(n2:Entity {text: \"2\"});\n",
      "Executing Cypher: CREATE (nDetermination_of_fetal:Entity {text: \"Determination of fetal\"})-[:RELATES_TO]->(n2:Entity {text: \"2\"});\n",
      "Raw from Ollama: CREATE (nUS_Entity:Entity {text: \"US\"})-[:RELATES_TO]->(n2_Entity:Entity {text: \"2\"});\n",
      "Sanitized Cypher: CREATE (nUS_Entity:Entity {text: \"US\"})-[:RELATES_TO]->(n2_Entity:Entity {text: \"2\"});\n",
      "Executing Cypher: CREATE (nUS_Entity:Entity {text: \"US\"})-[:RELATES_TO]->(n2_Entity:Entity {text: \"2\"});\n",
      "Raw from Ollama: CREATE (n12to50:Entity {text: \"12 to 5.0 Percent\"})-[:RELATES_TO]->(n12:Entity {text: \"12\"}),(n5p0:Entity {text: \"5.0 Percent\"});\n",
      "Sanitized Cypher: CREATE (n12to50:Entity {text: \"12 to 5.0 Percent\"})-[:RELATES_TO]->(n12:Entity {text: \"12\"}),(n5p0:Entity {text: \"5.0 Percent\"});\n",
      "Executing Cypher: CREATE (n12to50:Entity {text: \"12 to 5.0 Percent\"})-[:RELATES_TO]->(n12:Entity {text: \"12\"}),(n5p0:Entity {text: \"5.0 Percent\"});\n",
      "Raw from Ollama: CREATE (n1016_Year_Age:Entity {text: \"10-16 years of age\"})-[:RELATES_TO]->(daily:Entity {text: \"daily\"});\n",
      "Sanitized Cypher: CREATE (n1016_Year_Age:Entity {text: \"10-16 years of age\"})-[:RELATES_TO]->(daily:Entity {text: \"daily\"});\n",
      "Executing Cypher: CREATE (n1016_Year_Age:Entity {text: \"10-16 years of age\"})-[:RELATES_TO]->(daily:Entity {text: \"daily\"});\n",
      "Raw from Ollama: CREATE (n_daily_Entity:Entity {text: \"daily\"})-[:RELATES_TO]->(n_750_Dose:Entity {text: \"750\"});\n",
      "Sanitized Cypher: CREATE (n_daily_Entity:Entity {text: \"daily\"})-[:RELATES_TO]->(n_750_Dose:Entity {text: \"750\"});\n",
      "Executing Cypher: CREATE (n_daily_Entity:Entity {text: \"daily\"})-[:RELATES_TO]->(n_750_Dose:Entity {text: \"750\"});\n",
      "Raw from Ollama: CREATE (n30_Entity:Entity {text: \"30\"})-[:DISCONTINUES]->(discontinue_Iodinated_Contrast_Imaging_Procedures_Entity:Entity {text: \"Discontinuation for Iodinated Contrast Imaging Procedures Discontinue\"});\n",
      "Sanitized Cypher: CREATE (n30_Entity:Entity {text: \"30\"})-[:DISCONTINUES]->(discontinue_Iodinated_Contrast_Imaging_Procedures_Entity:Entity {text: \"Discontinuation for Iodinated Contrast Imaging Procedures Discontinue\"});\n",
      "Executing Cypher: CREATE (n30_Entity:Entity {text: \"30\"})-[:DISCONTINUES]->(discontinue_Iodinated_Contrast_Imaging_Procedures_Entity:Entity {text: \"Discontinuation for Iodinated Contrast Imaging Procedures Discontinue\"});\n",
      "Raw from Ollama: CREATE (insulin_therapy:nEntity {text: \"Insulin Therapy\"} )-[:RELATES_TO]->(five_hundred:nEntity {text: \"500\" });\n",
      "Sanitized Cypher: CREATE (insulin_therapy:nEntity {text: \"Insulin Therapy\"} )-[:RELATES_TO]->(five_hundred:nEntity {text: \"500\" });\n",
      "Executing Cypher: CREATE (insulin_therapy:nEntity {text: \"Insulin Therapy\"} )-[:RELATES_TO]->(five_hundred:nEntity {text: \"500\" });\n",
      "Raw from Ollama: CREATE (n500_Entity:Entity {text: \"500\"}), (n100_Entity:Entity {text: \"100\"})-[:RELATES_TO]->(n500_Entity);\n",
      "Sanitized Cypher: CREATE (n500_Entity:Entity {text: \"500\"}), (n100_Entity:Entity {text: \"100\"})-[:RELATES_TO]->(n500_Entity);\n",
      "Executing Cypher: CREATE (n500_Entity:Entity {text: \"500\"}), (n100_Entity:Entity {text: \"100\"})-[:RELATES_TO]->(n500_Entity);\n",
      "Raw from Ollama: CREATE (nDarmstadt_Entity:Entity {text: \"Darmstadt\"}), (nGermany_Entity:Entity {text: \"Germany\"})-[:LOCATED_IN]->(nDarmstadt_Entity);\n",
      "Sanitized Cypher: CREATE (nDarmstadt_Entity:Entity {text: \"Darmstadt\"}), (nGermany_Entity:Entity {text: \"Germany\"})-[:LOCATED_IN]->(nDarmstadt_Entity);\n",
      "Executing Cypher: CREATE (nDarmstadt_Entity:Entity {text: \"Darmstadt\"}), (nGermany_Entity:Entity {text: \"Germany\"})-[:LOCATED_IN]->(nDarmstadt_Entity);\n",
      "Raw from Ollama: CREATE (n750_Drug:Entity {text: \"750 Drug\"})-[:ADMINISTERED_BY]->(n2mg_Dose:Entity {text: \"2mg Dose\"});\n",
      "Sanitized Cypher: CREATE (n750_Drug:Entity {text: \"750 Drug\"})-[:ADMINISTERED_BY]->(n2mg_Dose:Entity {text: \"2mg Dose\"});\n",
      "Executing Cypher: CREATE (n750_Drug:Entity {text: \"750 Drug\"})-[:ADMINISTERED_BY]->(n2mg_Dose:Entity {text: \"2mg Dose\"});\n",
      "Raw from Ollama: CREATE (n2:Entity {text: \"2\"})-[:IS_YOUNGER_THAN]->(n10:Entity {text: \"10\"});\n",
      "Sanitized Cypher: CREATE (n2:Entity {text: \"2\"})-[:IS_YOUNGER_THAN]->(n10:Entity {text: \"10\"});\n",
      "Executing Cypher: CREATE (n2:Entity {text: \"2\"})-[:IS_YOUNGER_THAN]->(n10:Entity {text: \"10\"});\n",
      "Raw from Ollama: CREATE (nMetformin_Entity:Entity {text: \"Metformin\"})-[:RELATES_TO]->(n33_Entity:Entity {text: \"33\"});\n",
      "Sanitized Cypher: CREATE (nMetformin_Entity:Entity {text: \"Metformin\"})-[:RELATES_TO]->(n33_Entity:Entity {text: \"33\"});\n",
      "Executing Cypher: CREATE (nMetformin_Entity:Entity {text: \"Metformin\"})-[:RELATES_TO]->(n33_Entity:Entity {text: \"33\"});\n",
      "Raw from Ollama: CREATE (nmoreThanAFewWeeks_Entity:Entity {text: \"moreThanAFewWeeks\"})-[:RELATES_TO]->(About_Three:Entity {text: \"About 3\"});\n",
      "Sanitized Cypher: CREATE (nmoreThanAFewWeeks_Entity:Entity {text: \"moreThanAFewWeeks\"})-[:RELATES_TO]->(About_Three:Entity {text: \"About 3\"});\n",
      "Executing Cypher: CREATE (nmoreThanAFewWeeks_Entity:Entity {text: \"moreThanAFewWeeks\"})-[:RELATES_TO]->(About_Three:Entity {text: \"About 3\"});\n",
      "Raw from Ollama: CREATE (merck_sante:nEntity {text: \"Merck Santé\"}), (merck_kga:aEntity {text: \"Merck KGaA\"})-[:RELATES_TO]->(merck_sante);\n",
      "Sanitized Cypher: CREATE (merck_sante:nEntity {text: \"Merck Santé\"}), (merck_kga:aEntity {text: \"Merck KGaA\"})-[:RELATES_TO]->(merck_sante);\n",
      "Executing Cypher: CREATE (merck_sante:nEntity {text: \"Merck Santé\"}), (merck_kga:aEntity {text: \"Merck KGaA\"})-[:RELATES_TO]->(merck_sante);\n"
     ]
    }
   ],
   "source": [
    "import re\n",
    "\n",
    "# --- Sanitization function ---\n",
    "def sanitize_cypher(raw_response: str) -> str:\n",
    "    query = re.sub(r\"```(?:cypher)?|```\", \"\", raw_response, flags=re.IGNORECASE).strip()\n",
    "    query = re.sub(r\"//.*?$\", \"\", query, flags=re.MULTILINE)\n",
    "    query = re.sub(r\"#.*?$\", \"\", query, flags=re.MULTILINE)\n",
    "    query = re.sub(r\"\\{\\s*\\}\", \"\", query)  # Remove empty {}\n",
    "    query = re.sub(r\"\\[\\s*:(\\w+)\\s*\\{\\s*\\}\\s*\\]\", r\"[:\\1]\", query)  # Remove empty relationship props\n",
    "    query = re.sub(r\"CREATE\\s+\\((\\w+):(\\w+)\\s*\\{(.*?)\\}\\),\\s*\\(\\1\",\n",
    "                   r\"CREATE (\\1:\\2 {\\3})\\nMATCH (\\1\", query)  # Avoid duplicate creates\n",
    "    return query.strip()\n",
    "\n",
    "# --- Base prompt ---\n",
    "base_prompt = \"\"\"\n",
    "You are an expert at writing Neo4j Cypher queries.\n",
    "I want to build out my knowledge graph.\n",
    "Whenever I ask you to create relationships, assume the nodes may NOT already exist — you must create them along with the relationship.\n",
    "\n",
    "STRICT RULES:\n",
    "1. Output MUST be a single valid Cypher `CREATE` query **and nothing else** — no explanations, no comments, no blank lines before or after, no extra text, no code fences.\n",
    "   - The query must end immediately after the final semicolon (or end of query if no semicolon is used).\n",
    "   - Never output acknowledgements like \"Sure\" or \"Let me know if you need any further assistance\".\n",
    "2. Use exactly ONE CREATE statement that includes all nodes and the relationship in a single query.\n",
    "   - If creating multiple nodes, list them in the SAME CREATE clause separated by commas and linked by the relationship.\n",
    "3. NEVER produce more than one Cypher statement per query.\n",
    "4. Always use correct Cypher node syntax:\n",
    "   (variableName:Label {propertyKey: propertyValue, ...})\n",
    "5. Variable names:\n",
    "   - Must be derived from the entity name by:\n",
    "       * Replacing spaces with underscores\n",
    "       * Removing all characters except letters, numbers, and underscores\n",
    "       * If it starts with a number or any non-letter character, prefix with 'n'\n",
    "       * If it becomes empty after sanitization, use 'entity'\n",
    "   - Must reflect the sanitized entity name — do not use generic n1/n2 unless the entity is literally numeric.\n",
    "   - Examples: \"750\" → n750, \"750 Entity\" → n750_Entity, \"2mg Dose\" → n2mg_Dose\n",
    "6. Node labels:\n",
    "   - Must come immediately after the colon, before the `{}`.\n",
    "   - If entity type is unknown, use label `Entity`.\n",
    "7. Property values:\n",
    "   - Must be valid strings, numbers, or booleans.\n",
    "   - Must always include `text: \"<original entity text exactly as given>\"`.\n",
    "   - Never leave them blank. If value unknown, omit property entirely.\n",
    "   - NEVER use parameter placeholders like `$id`, `$name`, `$value` — always hardcode the actual value or omit the property.\n",
    "8. Relationship properties:\n",
    "   - Must have valid values.\n",
    "   - NEVER produce `{}`, `{-}`, or `{   }` in relationships.\n",
    "   - If no valid property exists, omit the `{}` entirely (e.g., `-[:RELATES_TO]->`).\n",
    "9. Always ensure relationship direction makes semantic sense from <<entity1>> to <<entity2>>.\n",
    "10. All Cypher identifiers (variable names, labels, relationship types, property keys) must:\n",
    "    - Start with a letter or underscore (NEVER a number)\n",
    "    - Contain only letters, numbers, and underscores\n",
    "    - No spaces or special characters\n",
    "\n",
    "Example of valid syntax:\n",
    "CREATE (daily:Entity {text: \"daily\"})-[:HAS_VALUE]->(n2550:Entity {text: \"2550\"});\n",
    "\n",
    "Invalid syntax examples to AVOID:\n",
    "❌ CREATE (daily:Entity {text: \"daily\"}),(2550:Entity {text: \"2550\"})  # Variable starts with a number\n",
    "❌ CREATE (750_Entity:Entity {text: \"750\"})                            # Must be n750_Entity\n",
    "❌ CREATE (a:Label) CREATE (b:Label)                                  # Multiple CREATE statements\n",
    "❌ (CARDINAL: {text: \"2\"})                                            # Missing label after colon\n",
    "❌ -[:RELATION {prop: }]->                                            # Empty property value\n",
    "❌ CREATE (a:Label {id: $id})                                         # Parameter placeholders not allowed\n",
    "❌ CREATE (...) ... <extra text>                                      # No trailing explanations allowed\n",
    "\n",
    "---\n",
    "\n",
    "Task:\n",
    "Give me the Cypher query to create both nodes and the relationship between <<entity1>> and <<entity2>> following the above rules.\n",
    "Output ONLY the Cypher query exactly, with nothing else before or after.\n",
    "\"\"\"\n",
    "\n",
    "# --- Loop over entities ---\n",
    "for item in all_entities:\n",
    "    entities = item[\"entities\"]\n",
    "    if len(entities) >= 2:\n",
    "        entity1 = entities[0][\"text\"]\n",
    "        entity2 = entities[1][\"text\"]\n",
    "\n",
    "        # Prepare prompt for Ollama\n",
    "        prompt = base_prompt.replace(\"<<entity1>>\", entity1).replace(\"<<entity2>>\", entity2)\n",
    "\n",
    "        # Get raw Cypher from Ollama\n",
    "        raw_cypher_query = ask_ollama(prompt)\n",
    "\n",
    "        # Sanitize\n",
    "        cypher_query = sanitize_cypher(raw_cypher_query)\n",
    "\n",
    "        # Print & execute\n",
    "        print(f\"Raw from Ollama: {raw_cypher_query}\")\n",
    "        print(f\"Sanitized Cypher: {cypher_query}\")\n",
    "        print(f\"Executing Cypher: {cypher_query}\")\n",
    "        run_cypher_query(cypher_query)\n",
    "\n",
    "driver.close()\n"
   ]
  },
  {
   "cell_type": "code",
   "execution_count": null,
   "id": "9a797fd2",
   "metadata": {},
   "outputs": [],
   "source": []
  }
 ],
 "metadata": {
  "kernelspec": {
   "display_name": ".venv",
   "language": "python",
   "name": "python3"
  },
  "language_info": {
   "codemirror_mode": {
    "name": "ipython",
    "version": 3
   },
   "file_extension": ".py",
   "mimetype": "text/x-python",
   "name": "python",
   "nbconvert_exporter": "python",
   "pygments_lexer": "ipython3",
   "version": "3.12.11"
  }
 },
 "nbformat": 4,
 "nbformat_minor": 5
}
