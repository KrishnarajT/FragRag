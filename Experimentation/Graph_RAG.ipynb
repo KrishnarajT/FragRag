{
 "cells": [
  {
   "cell_type": "markdown",
   "id": "fb14bb3b-1c64-4cab-a733-49430a51d662",
   "metadata": {},
   "source": [
    "### Extract Text"
   ]
  },
  {
   "cell_type": "code",
   "execution_count": 8,
   "id": "16ec379d-c337-4469-bd24-e0e4f028e504",
   "metadata": {},
   "outputs": [],
   "source": [
    "import fitz  # PyMuPDF\n",
    "\n",
    "def extract_text_from_pdf(file_path):\n",
    "    doc = fitz.open(file_path)\n",
    "    pages = []\n",
    "    for page_number in range(len(doc)):\n",
    "        page = doc.load_page(page_number)\n",
    "        text = page.get_text().strip()\n",
    "        pages.append({\n",
    "            \"page_number\": page_number + 1,\n",
    "            \"text\": text\n",
    "        })\n",
    "    doc.close()\n",
    "    return pages\n",
    "\n",
    "# Extract and print text\n",
    "pdf_path = \"./metformin1.pdf\"\n",
    "pages = extract_text_from_pdf(pdf_path)"
   ]
  },
  {
   "cell_type": "markdown",
   "id": "0f378cc9-6dda-4bb8-b38d-fa42ffb8f5e9",
   "metadata": {},
   "source": [
    "### Extract Entities"
   ]
  },
  {
   "cell_type": "code",
   "execution_count": 13,
   "id": "0f4ddd01-bfeb-4a65-b1a7-1b5f1850eb8b",
   "metadata": {},
   "outputs": [],
   "source": [
    "import spacy\n",
    "nlp = spacy.load(\"en_core_web_sm\")\n"
   ]
  },
  {
   "cell_type": "code",
   "execution_count": 14,
   "id": "05175d8e-8f62-47ea-8d92-153ec4cd3cbb",
   "metadata": {},
   "outputs": [],
   "source": [
    "# Function to extract entities from text\n",
    "def extract_entities(text):\n",
    "    doc = nlp(text)\n",
    "    entities = []\n",
    "    for ent in doc.ents:\n",
    "        entities.append({\n",
    "            \"text\": ent.text,\n",
    "            \"label\": ent.label_\n",
    "        })\n",
    "    return entities"
   ]
  },
  {
   "cell_type": "code",
   "execution_count": 15,
   "id": "aa3a2de0-0cb3-4876-bd57-30c82840714d",
   "metadata": {},
   "outputs": [
    {
     "data": {
      "text/plain": [
       "{'page_number': 1,\n",
       " 'entities': [{'text': '2', 'label': 'CARDINAL'},\n",
       "  {'text': 'Metformin', 'label': 'PERSON'},\n",
       "  {'text': 'C4H11N5 •', 'label': 'ORG'},\n",
       "  {'text': '165.63', 'label': 'CARDINAL'},\n",
       "  {'text': '12.4', 'label': 'CARDINAL'},\n",
       "  {'text': '1%', 'label': 'PERCENT'},\n",
       "  {'text': '6.68', 'label': 'CARDINAL'},\n",
       "  {'text': '500', 'label': 'CARDINAL'},\n",
       "  {'text': '850', 'label': 'CARDINAL'},\n",
       "  {'text': '1000', 'label': 'CARDINAL'},\n",
       "  {'text': '500', 'label': 'CARDINAL'},\n",
       "  {'text': '850', 'label': 'CARDINAL'},\n",
       "  {'text': '1000', 'label': 'CARDINAL'},\n",
       "  {'text': '500', 'label': 'CARDINAL'},\n",
       "  {'text': '750', 'label': 'CARDINAL'},\n",
       "  {'text': '500', 'label': 'CARDINAL'},\n",
       "  {'text': '4079189', 'label': 'CARDINAL'},\n",
       "  {'text': 'FDA', 'label': 'ORG'},\n",
       "  {'text': 'https://www.fda.gov/drugsatfda', 'label': 'ORG'}]}"
      ]
     },
     "execution_count": 15,
     "metadata": {},
     "output_type": "execute_result"
    }
   ],
   "source": [
    "all_entities = []\n",
    "\n",
    "for page in pages:\n",
    "    entities = extract_entities(page[\"text\"])\n",
    "    all_entities.append({\n",
    "        \"page_number\": page[\"page_number\"],\n",
    "        \"entities\": entities\n",
    "    })\n",
    "all_entities[0]"
   ]
  },
  {
   "cell_type": "markdown",
   "id": "1aa9e481-dc25-43cf-9257-790a4c8c6d32",
   "metadata": {},
   "source": [
    "### Building and storing your FAISS index"
   ]
  },
  {
   "cell_type": "code",
   "execution_count": null,
   "id": "d4518110-4c84-4d84-946f-04d88b4abe15",
   "metadata": {},
   "outputs": [
    {
     "name": "stdout",
     "output_type": "stream",
     "text": [
      "Stored 561 unique entities into FAISS.\n"
     ]
    }
   ],
   "source": [
    "# from sentence_transformers import SentenceTransformer\n",
    "# import faiss\n",
    "# import numpy as np\n",
    "# import json\n",
    "# import pickle\n",
    "\n",
    "# # 1. Load the embedding model\n",
    "# model = SentenceTransformer('all-MiniLM-L6-v2')\n",
    "\n",
    "# # 2. Flatten entities and prepare metadata\n",
    "# unique_entities = {}\n",
    "# metadata = []\n",
    "# embedding_inputs = []\n",
    "\n",
    "# for item in all_entities:\n",
    "#     page = item[\"page_number\"]\n",
    "#     for ent in item[\"entities\"]:\n",
    "#         text = ent[\"text\"].strip()\n",
    "#         key = text.lower()\n",
    "\n",
    "#         if key not in unique_entities:\n",
    "#             unique_entities[key] = {\n",
    "#                 \"text\": text,\n",
    "#                 \"label\": ent[\"label\"],\n",
    "#                 \"pages\": [page]\n",
    "#             }\n",
    "#             embedding_inputs.append(text)\n",
    "#         else:\n",
    "#             unique_entities[key][\"pages\"].append(page)\n",
    "\n",
    "# # 3. Compute embeddings\n",
    "# embeddings = model.encode(embedding_inputs, convert_to_numpy=True)\n",
    "\n",
    "# # 4. Create FAISS index\n",
    "# dim = embeddings.shape[1]\n",
    "# index = faiss.IndexFlatL2(dim)\n",
    "# index.add(embeddings)\n",
    "\n",
    "# # 5. Save metadata alongside index\n",
    "# metadata = list(unique_entities.values())\n",
    "\n",
    "# # Save FAISS index\n",
    "# faiss.write_index(index, \"entity_index.faiss\")\n",
    "\n",
    "# # Save metadata to disk\n",
    "# with open(\"entity_metadata.pkl\", \"wb\") as f:\n",
    "#     pickle.dump(metadata, f)\n",
    "\n",
    "# print(f\"Stored {len(metadata)} unique entities into FAISS.\")"
   ]
  },
  {
   "cell_type": "markdown",
   "id": "0fb71df1-8ce8-43a9-a261-e59178c7d8b7",
   "metadata": {},
   "source": [
    "### Semantic Chunking"
   ]
  },
  {
   "cell_type": "code",
   "execution_count": null,
   "id": "884f84b1-4c4d-4480-92f5-1294fe96da88",
   "metadata": {},
   "outputs": [],
   "source": []
  }
 ],
 "metadata": {
  "kernelspec": {
   "display_name": ".venv",
   "language": "python",
   "name": "python3"
  },
  "language_info": {
   "codemirror_mode": {
    "name": "ipython",
    "version": 3
   },
   "file_extension": ".py",
   "mimetype": "text/x-python",
   "name": "python",
   "nbconvert_exporter": "python",
   "pygments_lexer": "ipython3",
   "version": "3.12.11"
  }
 },
 "nbformat": 4,
 "nbformat_minor": 5
}
